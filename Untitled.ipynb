{
 "cells": [
  {
   "cell_type": "code",
   "execution_count": 7,
   "id": "fba618ea",
   "metadata": {},
   "outputs": [],
   "source": [
    "def phonetize(string):\n",
    "\n",
    "    '''Returns KVP phonetics for a string\n",
    "    \n",
    "    string | str | the string to be phonetized\n",
    "\n",
    "    '''\n",
    "\n",
    "    import bophono\n",
    "\n",
    "    # see PhonStateMST.py for other options\n",
    "    options = {'aspirateLowTones': False}\n",
    "\n",
    "    lkt = bophono.UnicodeToApi(schema=\"LKT\", options=options)\n",
    "    phonetic = lkt.get_api(string)\n",
    "    \n",
    "    return phonetic"
   ]
  },
  {
   "cell_type": "code",
   "execution_count": 8,
   "id": "d64156d4",
   "metadata": {},
   "outputs": [
    {
     "data": {
      "text/plain": [
       "'sem'"
      ]
     },
     "execution_count": 8,
     "metadata": {},
     "output_type": "execute_result"
    }
   ],
   "source": [
    "phonetize('སེམས་')"
   ]
  },
  {
   "cell_type": "code",
   "execution_count": 11,
   "id": "7eed8296",
   "metadata": {},
   "outputs": [],
   "source": [
    "import pandas as pd"
   ]
  },
  {
   "cell_type": "code",
   "execution_count": 16,
   "id": "bb208cf2",
   "metadata": {},
   "outputs": [],
   "source": [
    "roots = pd.read_csv('bophono/data/roots.csv', header=None, sep=',')"
   ]
  },
  {
   "cell_type": "code",
   "execution_count": 18,
   "id": "32746126",
   "metadata": {},
   "outputs": [],
   "source": [
    "roots[4] = roots[3]"
   ]
  },
  {
   "cell_type": "code",
   "execution_count": 20,
   "id": "8b976379",
   "metadata": {},
   "outputs": [],
   "source": [
    "ends = pd.read_csv('bophono/data/ends.csv', header=None, sep=',')"
   ]
  },
  {
   "cell_type": "code",
   "execution_count": 22,
   "id": "9301c385",
   "metadata": {},
   "outputs": [],
   "source": [
    "ends[4] = ends[3]"
   ]
  },
  {
   "cell_type": "code",
   "execution_count": 24,
   "id": "551a0a62",
   "metadata": {},
   "outputs": [],
   "source": [
    "roots.to_csv('bophono/data/roots.csv', header=None, index=False)\n",
    "ends.to_csv('bophono/data/ends.csv', header=None, index=False)"
   ]
  },
  {
   "cell_type": "code",
   "execution_count": null,
   "id": "86d5de77",
   "metadata": {},
   "outputs": [],
   "source": []
  }
 ],
 "metadata": {
  "kernelspec": {
   "display_name": "Python 3 (ipykernel)",
   "language": "python",
   "name": "python3"
  },
  "language_info": {
   "codemirror_mode": {
    "name": "ipython",
    "version": 3
   },
   "file_extension": ".py",
   "mimetype": "text/x-python",
   "name": "python",
   "nbconvert_exporter": "python",
   "pygments_lexer": "ipython3",
   "version": "3.9.13"
  }
 },
 "nbformat": 4,
 "nbformat_minor": 5
}
